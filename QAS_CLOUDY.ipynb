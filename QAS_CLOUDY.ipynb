{
 "cells": [
  {
   "cell_type": "code",
   "execution_count": 1,
   "metadata": {},
   "outputs": [],
   "source": [
    "import numpy as np"
   ]
  },
  {
   "cell_type": "markdown",
   "metadata": {},
   "source": [
    "# Hello once more! By now you should have worked through QAS_Basics and QAS_Clouds. Hopefully, you are feeling a little more comfortable with understanding what this project is about.\n",
    "# Now, we take the project in its current (somewhat) simplified state and transform it into something more physical and exciting!"
   ]
  },
  {
   "cell_type": "markdown",
   "metadata": {},
   "source": [
    "# Specifically, we are going to add parameters to sample for. Doppler b and Velocity will remain unchanged but we can sample now for total (3D) density, instead of column density. We will still need to know the column density for voigt fitting so, we will also need the *length* of our line of sight. \n",
    "# This is because N = 3D Density (rho) * length of our line of sight (los)"
   ]
  },
  {
   "cell_type": "markdown",
   "metadata": {},
   "source": [
    "# But there are some other factors that determine how much of the available column density is split into the different species. So far we have only sampled with Si-II (1526), but it is necessary to sample over all available absorptions for all available species. \n",
    "# Lets imagine we have a cloud that has both Silicon and Magnesium present in gas form. Not only will they be present, but some (if not all) of their ionization states will be present too. "
   ]
  },
  {
   "cell_type": "markdown",
   "metadata": {},
   "source": [
    "# Now the cloud has **1** value for its column density, but the Silicon and Magnesium do not necessarily split this value. Instead the cloud's ***metallicity*** will determine how much of that column density will be Silicon and how much will be Magnesium "
   ]
  },
  {
   "cell_type": "markdown",
   "metadata": {},
   "source": [
    "# Now that the column density is distributed between the two different elements, it will be split again amongst the different ionization states present. The amount that it will be split by is determined by the ***ionization fraction***. This fraction is determined by the cloud's ***3D density (rho)*** and its ***temperature***"
   ]
  },
  {
   "cell_type": "markdown",
   "metadata": {},
   "source": [
    "# So now our parameters will be ***3D Density (rho), Length of line of sight (los), Temperature, Metallicity, Doppler b, and Velocity*** bringing our total to 6 free parameters per cloud "
   ]
  },
  {
   "cell_type": "code",
   "execution_count": 11,
   "metadata": {},
   "outputs": [],
   "source": [
    "# Here is an example of how this looks mathematically\n",
    "\n",
    "total_rho    = 10**(1.2)   #total density of cloud\n",
    "Metallicity  = 0.7           #total metallicity of cloud\n",
    "los          = 10**(21.2)    #length of the line of sight\n",
    "T            = 10**(3.6)     #Temperature of cloud\n",
    "b            = 12.3          #Doppler b of cloud\n",
    "v            = 100.          #Velocity of cloud"
   ]
  },
  {
   "cell_type": "code",
   "execution_count": 12,
   "metadata": {},
   "outputs": [],
   "source": [
    "#Lets assume this cloud is made of Mg I,II and Si I,II\n",
    "\n",
    "f_solar_Mg = 10. ** (-9.22)\n",
    "f_solar_Si = 3.24 * 10.**(-4.48)   #scaled solar abundances of Si, Mg "
   ]
  },
  {
   "cell_type": "code",
   "execution_count": 13,
   "metadata": {},
   "outputs": [],
   "source": [
    "total_N = total_rho * los"
   ]
  },
  {
   "cell_type": "code",
   "execution_count": 14,
   "metadata": {},
   "outputs": [],
   "source": [
    "N_Si = total_N * Metallicity * f_solar_Si  #total SI column Density\n",
    "N_Mg = total_N * Metallicity * f_solar_Mg  #total Mg column Density"
   ]
  },
  {
   "cell_type": "code",
   "execution_count": 15,
   "metadata": {},
   "outputs": [
    {
     "name": "stdout",
     "output_type": "stream",
     "text": [
      "The total logN for Si is 18.275643050220868 and the total logN for Mg is 13.025098040014255\n"
     ]
    }
   ],
   "source": [
    "print (\"The total logN for Si is\",np.log10(N_Si),\"and the total logN for Mg is\",np.log10(N_Mg))"
   ]
  },
  {
   "cell_type": "markdown",
   "metadata": {},
   "source": [
    "# Now we need to determine how the total logN for Si is split up between Si I and II and likewise for Mg. \n",
    "# The Ionization fraction is determined by the Saha ionization equation. It is big and ugly so lets lean off someone else's work!\n",
    "# Luckily there is a program called, CLOUDY, which will give us the ionization fraction if we input the necessary parameters.\n",
    "# Even more lucky, S. Bird has kindly made available the table that CLOUDY produces for a given rho and temp. lets load it now"
   ]
  },
  {
   "cell_type": "code",
   "execution_count": 29,
   "metadata": {},
   "outputs": [],
   "source": [
    "def frac_from_dens(redshift,density,temp,species,ion):  #useful code to produce ionization fraction\n",
    "    \n",
    "    cloudy = np.load('cloudy_table.npz')   #load table\n",
    "\n",
    "    table = cloudy['table']\n",
    "    #[redshift,density,temperature,species,ion]#\n",
    "    \n",
    "    rrange = np.arange(7,-1,-1) #redshift range from S Bird Cloudy tables\n",
    "    trange = np.arange(3.,8.6,0.05) #temp range from S Bird Cloudy tables\n",
    "    drange = np.arange(-7.,4.,0.2) #drange range from S Bird Cloudy tables\n",
    "    \n",
    "    spec = np.array([\"H\", \"He\", \"C\", \"N\", \"O\", \"Ne\", \"Mg\", \"Si\", \"Fe\"])\n",
    "    \n",
    "    trange = trange.round(3) #formatting necessary to read table\n",
    "\n",
    "    r = np.where(rrange == redshift)\n",
    "    t = np.where(trange == temp)\n",
    "    el = np.where(spec == species)\n",
    "    \n",
    "    r = int(r[0])\n",
    "    t = int(t[0])\n",
    "    el = int(el[0])\n",
    "    \n",
    "    ion = ion-1 #account for formatting of np arrays\n",
    "    \n",
    "    frac = []\n",
    "    for i in range (len(drange)):\n",
    "        frac.append(table[r,i,t,el,ion])\n",
    "    frac = np.array(frac)\n",
    "    frac = 10**(frac)\n",
    "    \n",
    "    frac_dens = np.interp(density,drange,frac)\n",
    "    \n",
    "    return frac_dens"
   ]
  },
  {
   "cell_type": "code",
   "execution_count": 39,
   "metadata": {},
   "outputs": [],
   "source": [
    "# First lets walk through the Silicon, all inputs must be in array form!\n",
    "redshift = np.array([0.0])  #necessary input parameter for CLOUDY \n",
    "density = np.array([np.log10(total_rho)]) #need log vals of Density and temp\n",
    "temp = np.array([np.log10(T)])\n",
    "species = np.array(['Si','Si','Mg','Mg'])\n",
    "ion = np.array([1,2,1,2])   #Accounts for Si I,II and MgI,II"
   ]
  },
  {
   "cell_type": "code",
   "execution_count": 40,
   "metadata": {},
   "outputs": [
    {
     "name": "stdout",
     "output_type": "stream",
     "text": [
      "[6.44169266e-05]\n"
     ]
    }
   ],
   "source": [
    "print(frac_from_dens(redshift,density,temp,species[0],ion[0])) #fraction of Si that is Si-I"
   ]
  },
  {
   "cell_type": "code",
   "execution_count": 41,
   "metadata": {},
   "outputs": [
    {
     "name": "stdout",
     "output_type": "stream",
     "text": [
      "[1.]\n"
     ]
    }
   ],
   "source": [
    "print(frac_from_dens(redshift,density,temp,species[1],ion[1])) #fraction for Si II"
   ]
  },
  {
   "cell_type": "code",
   "execution_count": 42,
   "metadata": {},
   "outputs": [
    {
     "name": "stdout",
     "output_type": "stream",
     "text": [
      "[0.00063826]\n"
     ]
    }
   ],
   "source": [
    "print(frac_from_dens(redshift,density,temp,species[2],ion[2])) #fraction for Mg I"
   ]
  },
  {
   "cell_type": "code",
   "execution_count": 43,
   "metadata": {},
   "outputs": [
    {
     "name": "stdout",
     "output_type": "stream",
     "text": [
      "[1.]\n"
     ]
    }
   ],
   "source": [
    "print(frac_from_dens(redshift,density,temp,species[3],ion[3])) #fraction for Mg II"
   ]
  },
  {
   "cell_type": "code",
   "execution_count": 45,
   "metadata": {},
   "outputs": [],
   "source": [
    "# Now lets find our indvidual column densities for all 4 of our species\n",
    "\n",
    "f_Si_I = (frac_from_dens(redshift,density,temp,species[0],ion[0]))\n",
    "f_Si_II = (frac_from_dens(redshift,density,temp,species[1],ion[1]))\n",
    "f_Mg_I = (frac_from_dens(redshift,density,temp,species[2],ion[2]))\n",
    "f_Mg_II = (frac_from_dens(redshift,density,temp,species[3],ion[3]))"
   ]
  },
  {
   "cell_type": "code",
   "execution_count": 47,
   "metadata": {},
   "outputs": [],
   "source": [
    "N_Si_I = N_Si * f_Si_I   \n",
    "N_Si_II = N_Si * f_Si_II\n",
    "\n",
    "logN_Si_I = np.log10(N_Si_I)\n",
    "logN_Si_II = np.log10(N_Si_II)"
   ]
  },
  {
   "cell_type": "code",
   "execution_count": 48,
   "metadata": {},
   "outputs": [],
   "source": [
    "N_Mg_I = N_Mg * f_Mg_I\n",
    "N_Mg_II = N_Mg * f_Mg_II\n",
    "\n",
    "logN_Mg_I = np.log10(N_Mg_I)\n",
    "logN_Mg_II = np.log10(N_Mg_II)"
   ]
  },
  {
   "cell_type": "code",
   "execution_count": 49,
   "metadata": {},
   "outputs": [
    {
     "name": "stdout",
     "output_type": "stream",
     "text": [
      "The log Column Density of Si-I is [14.08464305] and Si-II is  [18.27564305]\n"
     ]
    }
   ],
   "source": [
    "print(\"The log Column Density of Si-I is\",logN_Si_I,\"and Si-II is \",logN_Si_II)"
   ]
  },
  {
   "cell_type": "code",
   "execution_count": 50,
   "metadata": {},
   "outputs": [
    {
     "name": "stdout",
     "output_type": "stream",
     "text": [
      "The log Column Density of Mg-I is [9.83009804] and Mg-II is  [13.02509804]\n"
     ]
    }
   ],
   "source": [
    "print(\"The log Column Density of Mg-I is\",logN_Mg_I,\"and Mg-II is \",logN_Mg_II)"
   ]
  },
  {
   "cell_type": "markdown",
   "metadata": {},
   "source": [
    "# While this set up may seem more complicated, there is actually something really cool going on here. We started with 6 parameters, yet we now have the capability to produce 4 distint absorbers (Si-I/II and Mg-(I/II))"
   ]
  },
  {
   "cell_type": "markdown",
   "metadata": {},
   "source": [
    "# Of course, this will alter our set up, as now we need to account for the extra parameters and calculations - on to the next notebook!!"
   ]
  },
  {
   "cell_type": "code",
   "execution_count": null,
   "metadata": {},
   "outputs": [],
   "source": []
  }
 ],
 "metadata": {
  "kernelspec": {
   "display_name": "Python 3 (ipykernel)",
   "language": "python",
   "name": "python3"
  },
  "language_info": {
   "codemirror_mode": {
    "name": "ipython",
    "version": 3
   },
   "file_extension": ".py",
   "mimetype": "text/x-python",
   "name": "python",
   "nbconvert_exporter": "python",
   "pygments_lexer": "ipython3",
   "version": "3.8.1"
  }
 },
 "nbformat": 4,
 "nbformat_minor": 4
}
